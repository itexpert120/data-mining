{
 "cells": [
  {
   "cell_type": "markdown",
   "id": "44c02aae",
   "metadata": {
    "papermill": {
     "duration": 0.033161,
     "end_time": "2024-05-13T06:01:44.906710",
     "exception": false,
     "start_time": "2024-05-13T06:01:44.873549",
     "status": "completed"
    },
    "tags": []
   },
   "source": [
    "# 03 Bar and Histogram"
   ]
  },
  {
   "cell_type": "markdown",
   "id": "fc1e7858",
   "metadata": {
    "papermill": {
     "duration": 0.031219,
     "end_time": "2024-05-13T06:01:44.970609",
     "exception": false,
     "start_time": "2024-05-13T06:01:44.939390",
     "status": "completed"
    },
    "tags": []
   },
   "source": [
    "# (A) Bar graph"
   ]
  },
  {
   "cell_type": "code",
   "execution_count": 1,
   "id": "8622d70f",
   "metadata": {
    "execution": {
     "iopub.execute_input": "2024-05-13T06:01:45.052803Z",
     "iopub.status.busy": "2024-05-13T06:01:45.051756Z",
     "iopub.status.idle": "2024-05-13T06:01:45.056947Z",
     "shell.execute_reply": "2024-05-13T06:01:45.056086Z",
     "shell.execute_reply.started": "2024-03-12T07:09:41.997683Z"
    },
    "papermill": {
     "duration": 0.052,
     "end_time": "2024-05-13T06:01:45.057182",
     "exception": false,
     "start_time": "2024-05-13T06:01:45.005182",
     "status": "completed"
    },
    "tags": []
   },
   "outputs": [],
   "source": [
    "import matplotlib.pyplot as plt\n",
    "import numpy as np\n",
    "import pandas as pd"
   ]
  },
  {
   "cell_type": "code",
   "execution_count": 2,
   "id": "a6b86cbd",
   "metadata": {
    "execution": {
     "iopub.execute_input": "2024-05-13T06:01:45.135115Z",
     "iopub.status.busy": "2024-05-13T06:01:45.133876Z",
     "iopub.status.idle": "2024-05-13T06:01:45.439275Z",
     "shell.execute_reply": "2024-05-13T06:01:45.439893Z",
     "shell.execute_reply.started": "2024-03-12T07:09:42.010002Z"
    },
    "papermill": {
     "duration": 0.351164,
     "end_time": "2024-05-13T06:01:45.440163",
     "exception": false,
     "start_time": "2024-05-13T06:01:45.088999",
     "status": "completed"
    },
    "tags": []
   },
   "outputs": [
    {
     "data": {
      "image/png": "[encoded data removed]",
      "text/plain": [
       "<Figure size 432x288 with 1 Axes>"
      ]
     },
     "metadata": {
      "needs_background": "light"
     },
     "output_type": "display_data"
    }
   ],
   "source": [
    "income = [50000, 395000, 30000, 80000, 500000]\n",
    "pos = [1,2,3,4,5]\n",
    "plt.bar(pos, income, width=0.2, color=['yellow'], alpha=0.6, \\\n",
    "       edgecolor='black', align='edge', yerr=20000)\n",
    "\n",
    "plt.title('19cs Graph', color='blue', fontsize=20)\n",
    "plt.xlabel('Students')\n",
    "plt.ylabel('Income')\n",
    "plt.grid()"
   ]
  },
  {
   "cell_type": "markdown",
   "id": "e384cb3b",
   "metadata": {
    "papermill": {
     "duration": 0.032524,
     "end_time": "2024-05-13T06:01:45.508036",
     "exception": false,
     "start_time": "2024-05-13T06:01:45.475512",
     "status": "completed"
    },
    "tags": []
   },
   "source": [
    "### Getting insight from class dataset"
   ]
  },
  {
   "cell_type": "code",
   "execution_count": 3,
   "id": "5a4f023a",
   "metadata": {
    "execution": {
     "iopub.execute_input": "2024-05-13T06:01:45.583213Z",
     "iopub.status.busy": "2024-05-13T06:01:45.582356Z",
     "iopub.status.idle": "2024-05-13T06:01:59.729263Z",
     "shell.execute_reply": "2024-05-13T06:01:59.728576Z",
     "shell.execute_reply.started": "2024-03-12T07:09:42.333820Z"
    },
    "papermill": {
     "duration": 14.185964,
     "end_time": "2024-05-13T06:01:59.729474",
     "exception": false,
     "start_time": "2024-05-13T06:01:45.543510",
     "status": "completed"
    },
    "tags": []
   },
   "outputs": [
    {
     "name": "stdout",
     "output_type": "stream",
     "text": [
      "Collecting openpyxl\r\n",
      "  Downloading openpyxl-3.1.2-py2.py3-none-any.whl (249 kB)\r\n",
      "     |████████████████████████████████| 249 kB 8.2 MB/s            \r\n",
      "\u001b[?25hCollecting et-xmlfile\r\n",
      "  Downloading et_xmlfile-1.1.0-py3-none-any.whl (4.7 kB)\r\n",
      "Installing collected packages: et-xmlfile, openpyxl\r\n",
      "Successfully installed et-xmlfile-1.1.0 openpyxl-3.1.2\r\n",
      "\u001b[33mWARNING: Running pip as the 'root' user can result in broken permissions and conflicting behaviour with the system package manager. It is recommended to use a virtual environment instead: https://pip.pypa.io/warnings/venv\u001b[0m\r\n",
      "Note: you may need to restart the kernel to use updated packages.\n"
     ]
    }
   ],
   "source": [
    "pip install openpyxl"
   ]
  },
  {
   "cell_type": "code",
   "execution_count": 4,
   "id": "1489e445",
   "metadata": {
    "execution": {
     "iopub.execute_input": "2024-05-13T06:01:59.809686Z",
     "iopub.status.busy": "2024-05-13T06:01:59.808780Z",
     "iopub.status.idle": "2024-05-13T06:02:00.345008Z",
     "shell.execute_reply": "2024-05-13T06:02:00.344400Z",
     "shell.execute_reply.started": "2024-03-12T07:09:56.780046Z"
    },
    "papermill": {
     "duration": 0.578906,
     "end_time": "2024-05-13T06:02:00.345199",
     "exception": false,
     "start_time": "2024-05-13T06:01:59.766293",
     "status": "completed"
    },
    "tags": []
   },
   "outputs": [
    {
     "data": {
      "text/html": [
       "<div>\n",
       "<style scoped>\n",
       "    .dataframe tbody tr th:only-of-type {\n",
       "        vertical-align: middle;\n",
       "    }\n",
       "\n",
       "    .dataframe tbody tr th {\n",
       "        vertical-align: top;\n",
       "    }\n",
       "\n",
       "    .dataframe thead th {\n",
       "        text-align: right;\n",
       "    }\n",
       "</style>\n",
       "<table border=\"1\" class=\"dataframe\">\n",
       "  <thead>\n",
       "    <tr style=\"text-align: right;\">\n",
       "      <th></th>\n",
       "      <th>rno</th>\n",
       "      <th>name</th>\n",
       "      <th>age</th>\n",
       "      <th>cgpa</th>\n",
       "      <th>address</th>\n",
       "      <th>income</th>\n",
       "      <th>gender</th>\n",
       "      <th>scholarship amount</th>\n",
       "    </tr>\n",
       "  </thead>\n",
       "  <tbody>\n",
       "    <tr>\n",
       "      <th>0</th>\n",
       "      <td>16cs01</td>\n",
       "      <td>Hooria Tahir</td>\n",
       "      <td>22</td>\n",
       "      <td>2.95</td>\n",
       "      <td>bahawalpur</td>\n",
       "      <td>22000</td>\n",
       "      <td>1</td>\n",
       "      <td>80000</td>\n",
       "    </tr>\n",
       "    <tr>\n",
       "      <th>1</th>\n",
       "      <td>16CS02</td>\n",
       "      <td>Sammrah Hanif</td>\n",
       "      <td>22</td>\n",
       "      <td>3.64</td>\n",
       "      <td>bahawalpur</td>\n",
       "      <td>0</td>\n",
       "      <td>1</td>\n",
       "      <td>13000</td>\n",
       "    </tr>\n",
       "  </tbody>\n",
       "</table>\n",
       "</div>"
      ],
      "text/plain": [
       "      rno           name  age  cgpa     address income  gender  \\\n",
       "0  16cs01   Hooria Tahir   22  2.95  bahawalpur  22000       1   \n",
       "1  16CS02  Sammrah Hanif   22  3.64  bahawalpur      0       1   \n",
       "\n",
       "   scholarship amount  \n",
       "0               80000  \n",
       "1               13000  "
      ]
     },
     "execution_count": 4,
     "metadata": {},
     "output_type": "execute_result"
    }
   ],
   "source": [
    "df = pd.read_excel('../input/cs-students/16csdata.xlsx')\n",
    "df.head(2)"
   ]
  },
  {
   "cell_type": "code",
   "execution_count": 5,
   "id": "f992b9a3",
   "metadata": {
    "execution": {
     "iopub.execute_input": "2024-05-13T06:02:00.436341Z",
     "iopub.status.busy": "2024-05-13T06:02:00.435073Z",
     "iopub.status.idle": "2024-05-13T06:02:00.440687Z",
     "shell.execute_reply": "2024-05-13T06:02:00.441388Z",
     "shell.execute_reply.started": "2024-03-12T07:09:57.260635Z"
    },
    "papermill": {
     "duration": 0.059379,
     "end_time": "2024-05-13T06:02:00.441660",
     "exception": false,
     "start_time": "2024-05-13T06:02:00.382281",
     "status": "completed"
    },
    "tags": []
   },
   "outputs": [
    {
     "name": "stdout",
     "output_type": "stream",
     "text": [
      "2    19\n",
      "1     8\n",
      "Name: gender, dtype: int64\n",
      "<class 'pandas.core.series.Series'>\n"
     ]
    }
   ],
   "source": [
    "labels = ['male', 'female']\n",
    "classes = pd.value_counts(df['gender'])   # , sort = False, ascending=True\n",
    "print(classes)\n",
    "print(type(classes))"
   ]
  },
  {
   "cell_type": "code",
   "execution_count": 6,
   "id": "c37c1158",
   "metadata": {
    "execution": {
     "iopub.execute_input": "2024-05-13T06:02:00.523593Z",
     "iopub.status.busy": "2024-05-13T06:02:00.522772Z",
     "iopub.status.idle": "2024-05-13T06:02:00.795486Z",
     "shell.execute_reply": "2024-05-13T06:02:00.794693Z",
     "shell.execute_reply.started": "2024-03-12T07:09:57.282824Z"
    },
    "papermill": {
     "duration": 0.313402,
     "end_time": "2024-05-13T06:02:00.795664",
     "exception": false,
     "start_time": "2024-05-13T06:02:00.482262",
     "status": "completed"
    },
    "tags": []
   },
   "outputs": [
    {
     "data": {
      "text/plain": [
       "Text(0, 0.5, 'Frequency')"
      ]
     },
     "execution_count": 6,
     "metadata": {},
     "output_type": "execute_result"
    },
    {
     "data": {
      "image/png": "[encoded data removed]",
      "text/plain": [
       "<Figure size 432x288 with 1 Axes>"
      ]
     },
     "metadata": {
      "needs_background": "light"
     },
     "output_type": "display_data"
    }
   ],
   "source": [
    "# Let's plot the gender class against the Frequency\n",
    "classes.plot(kind = 'bar', rot=315, width=0.2, edgecolor=['black'])\n",
    "plt.title(\"Gender distribution in the class\")\n",
    "plt.xticks(range(2), labels)\n",
    "plt.xlabel(\"Gender\")\n",
    "plt.ylabel(\"Frequency\")"
   ]
  },
  {
   "cell_type": "code",
   "execution_count": 7,
   "id": "4318e1da",
   "metadata": {
    "execution": {
     "iopub.execute_input": "2024-05-13T06:02:00.883681Z",
     "iopub.status.busy": "2024-05-13T06:02:00.882601Z",
     "iopub.status.idle": "2024-05-13T06:02:00.887417Z",
     "shell.execute_reply": "2024-05-13T06:02:00.887947Z",
     "shell.execute_reply.started": "2024-03-12T07:09:57.552609Z"
    },
    "papermill": {
     "duration": 0.052646,
     "end_time": "2024-05-13T06:02:00.888173",
     "exception": false,
     "start_time": "2024-05-13T06:02:00.835527",
     "status": "completed"
    },
    "tags": []
   },
   "outputs": [
    {
     "data": {
      "text/plain": [
       "(27, 8)"
      ]
     },
     "execution_count": 7,
     "metadata": {},
     "output_type": "execute_result"
    }
   ],
   "source": [
    "df.shape"
   ]
  },
  {
   "cell_type": "code",
   "execution_count": 8,
   "id": "15e5dc3e",
   "metadata": {
    "execution": {
     "iopub.execute_input": "2024-05-13T06:02:00.974270Z",
     "iopub.status.busy": "2024-05-13T06:02:00.973215Z",
     "iopub.status.idle": "2024-05-13T06:02:01.238750Z",
     "shell.execute_reply": "2024-05-13T06:02:01.239377Z",
     "shell.execute_reply.started": "2024-03-12T07:09:57.562073Z"
    },
    "papermill": {
     "duration": 0.311202,
     "end_time": "2024-05-13T06:02:01.239611",
     "exception": false,
     "start_time": "2024-05-13T06:02:00.928409",
     "status": "completed"
    },
    "tags": []
   },
   "outputs": [
    {
     "data": {
      "image/png": "[encoded data removed]",
      "text/plain": [
       "<Figure size 432x288 with 1 Axes>"
      ]
     },
     "metadata": {
      "needs_background": "light"
     },
     "output_type": "display_data"
    }
   ],
   "source": [
    "plt.bar(range(df.shape[1]), df.count(), yerr=1.2);\n",
    "\n",
    "plt.xticks(range(df.shape[1]), ['Roll No.', 'name', 'age', 'cgpa', \\\n",
    "                                'address', 'income', 'gender', \\\n",
    "                                'Stipend'], rotation = 45);"
   ]
  },
  {
   "cell_type": "code",
   "execution_count": 9,
   "id": "da41fe6e",
   "metadata": {
    "execution": {
     "iopub.execute_input": "2024-05-13T06:02:01.335535Z",
     "iopub.status.busy": "2024-05-13T06:02:01.334652Z",
     "iopub.status.idle": "2024-05-13T06:02:01.627740Z",
     "shell.execute_reply": "2024-05-13T06:02:01.627046Z",
     "shell.execute_reply.started": "2024-03-12T07:09:57.836393Z"
    },
    "papermill": {
     "duration": 0.347631,
     "end_time": "2024-05-13T06:02:01.627928",
     "exception": false,
     "start_time": "2024-05-13T06:02:01.280297",
     "status": "completed"
    },
    "tags": []
   },
   "outputs": [
    {
     "data": {
      "image/png": "[encoded data removed]",
      "text/plain": [
       "<Figure size 432x288 with 1 Axes>"
      ]
     },
     "metadata": {
      "needs_background": "light"
     },
     "output_type": "display_data"
    }
   ],
   "source": [
    "x_pos = [1,3,5,7,9, 11, 13, 15]\n",
    "rwidth = .6\n",
    "\n",
    "plt.bar(x_pos, df.count(), width=rwidth, align='center', color=['cyan'], \\\n",
    "        alpha = 0.6, edgecolor='black', yerr=1.2)\n",
    "\n",
    "plt.legend()\n",
    "\n",
    "plt.xticks(x_pos, ['Roll No.', 'name', 'age', 'cgpa', 'address', \\\n",
    "                               'income', 'gender', 'Stipend'], rotation=45)\n",
    "\n",
    "plt.xlabel('Position'), plt.ylabel('Length'), plt.title('First Bar Graph')\n",
    "plt.grid()"
   ]
  },
  {
   "cell_type": "code",
   "execution_count": 10,
   "id": "79f75687",
   "metadata": {
    "execution": {
     "iopub.execute_input": "2024-05-13T06:02:01.799888Z",
     "iopub.status.busy": "2024-05-13T06:02:01.788729Z",
     "iopub.status.idle": "2024-05-13T06:02:01.985434Z",
     "shell.execute_reply": "2024-05-13T06:02:01.984607Z",
     "shell.execute_reply.started": "2024-03-12T07:09:58.096153Z"
    },
    "papermill": {
     "duration": 0.315129,
     "end_time": "2024-05-13T06:02:01.985624",
     "exception": false,
     "start_time": "2024-05-13T06:02:01.670495",
     "status": "completed"
    },
    "tags": []
   },
   "outputs": [
    {
     "data": {
      "image/png": "[encoded data removed]",
      "text/plain": [
       "<Figure size 432x288 with 1 Axes>"
      ]
     },
     "metadata": {
      "needs_background": "light"
     },
     "output_type": "display_data"
    }
   ],
   "source": [
    "import matplotlib.pyplot as plt\n",
    "\n",
    "x = [1]\n",
    "boys = [17]\n",
    "x2 = [3]\n",
    "girls = [15]\n",
    "\n",
    "plt.bar(x, boys, label = \"Boys\", color = 'blue', alpha=0.6)\n",
    "plt.bar(x2, girls, label = \"Girls\", color = 'green', alpha=0.6)\n",
    "\n",
    "plt.xlabel('Along x-axis'); plt.ylabel('Along y-axis'); plt.title('Bar Chart')\n",
    "\n",
    "plt.legend(); plt.show()"
   ]
  },
  {
   "cell_type": "markdown",
   "id": "fda14484",
   "metadata": {
    "papermill": {
     "duration": 0.042399,
     "end_time": "2024-05-13T06:02:02.074443",
     "exception": false,
     "start_time": "2024-05-13T06:02:02.032044",
     "status": "completed"
    },
    "tags": []
   },
   "source": [
    "## Iris dataset Bar Plot"
   ]
  },
  {
   "cell_type": "code",
   "execution_count": 11,
   "id": "57f9964c",
   "metadata": {
    "execution": {
     "iopub.execute_input": "2024-05-13T06:02:02.170399Z",
     "iopub.status.busy": "2024-05-13T06:02:02.167275Z",
     "iopub.status.idle": "2024-05-13T06:02:02.172505Z",
     "shell.execute_reply": "2024-05-13T06:02:02.173102Z",
     "shell.execute_reply.started": "2024-03-12T07:09:58.317468Z"
    },
    "papermill": {
     "duration": 0.053803,
     "end_time": "2024-05-13T06:02:02.173295",
     "exception": false,
     "start_time": "2024-05-13T06:02:02.119492",
     "status": "completed"
    },
    "tags": []
   },
   "outputs": [],
   "source": [
    "# import matplotlib.pyplot as plt\n",
    "# import pandas as pd\n",
    "# df = pd.read_csv(\"iris.txt\")\n",
    "\n",
    "\n",
    "# rwidth = 0.2\n",
    "# plt.bar(range(5), df.count(), width = rwidth, bottom = 0, \\\n",
    "#         color=['blue', 'red', 'green', 'white', 'yellow'], \\\n",
    "#         alpha=0.6, edgecolor='black' )"
   ]
  },
  {
   "cell_type": "markdown",
   "id": "aece18e8",
   "metadata": {
    "papermill": {
     "duration": 0.041692,
     "end_time": "2024-05-13T06:02:02.258632",
     "exception": false,
     "start_time": "2024-05-13T06:02:02.216940",
     "status": "completed"
    },
    "tags": []
   },
   "source": [
    "# Bar graph Task"
   ]
  },
  {
   "cell_type": "markdown",
   "id": "c6c3f6f0",
   "metadata": {
    "papermill": {
     "duration": 0.042613,
     "end_time": "2024-05-13T06:02:02.344152",
     "exception": false,
     "start_time": "2024-05-13T06:02:02.301539",
     "status": "completed"
    },
    "tags": []
   },
   "source": [
    "1. Explore matplotlib official documentation and create a bar graph using paramenter other than those learnt during this lab demo. "
   ]
  },
  {
   "cell_type": "code",
   "execution_count": 12,
   "id": "ee0ed423",
   "metadata": {
    "execution": {
     "iopub.execute_input": "2024-05-13T06:02:02.434384Z",
     "iopub.status.busy": "2024-05-13T06:02:02.433582Z",
     "iopub.status.idle": "2024-05-13T06:02:02.449236Z",
     "shell.execute_reply": "2024-05-13T06:02:02.449805Z",
     "shell.execute_reply.started": "2024-03-12T07:11:31.863487Z"
    },
    "papermill": {
     "duration": 0.063692,
     "end_time": "2024-05-13T06:02:02.450013",
     "exception": false,
     "start_time": "2024-05-13T06:02:02.386321",
     "status": "completed"
    },
    "tags": []
   },
   "outputs": [
    {
     "data": {
      "text/html": [
       "<div>\n",
       "<style scoped>\n",
       "    .dataframe tbody tr th:only-of-type {\n",
       "        vertical-align: middle;\n",
       "    }\n",
       "\n",
       "    .dataframe tbody tr th {\n",
       "        vertical-align: top;\n",
       "    }\n",
       "\n",
       "    .dataframe thead th {\n",
       "        text-align: right;\n",
       "    }\n",
       "</style>\n",
       "<table border=\"1\" class=\"dataframe\">\n",
       "  <thead>\n",
       "    <tr style=\"text-align: right;\">\n",
       "      <th></th>\n",
       "      <th>rno</th>\n",
       "      <th>name</th>\n",
       "      <th>age</th>\n",
       "      <th>cgpa</th>\n",
       "      <th>address</th>\n",
       "      <th>income</th>\n",
       "      <th>gender</th>\n",
       "      <th>scholarship amount</th>\n",
       "    </tr>\n",
       "  </thead>\n",
       "  <tbody>\n",
       "    <tr>\n",
       "      <th>0</th>\n",
       "      <td>16cs01</td>\n",
       "      <td>Hooria Tahir</td>\n",
       "      <td>22</td>\n",
       "      <td>2.95</td>\n",
       "      <td>bahawalpur</td>\n",
       "      <td>22000</td>\n",
       "      <td>1</td>\n",
       "      <td>80000</td>\n",
       "    </tr>\n",
       "    <tr>\n",
       "      <th>1</th>\n",
       "      <td>16CS02</td>\n",
       "      <td>Sammrah Hanif</td>\n",
       "      <td>22</td>\n",
       "      <td>3.64</td>\n",
       "      <td>bahawalpur</td>\n",
       "      <td>0</td>\n",
       "      <td>1</td>\n",
       "      <td>13000</td>\n",
       "    </tr>\n",
       "    <tr>\n",
       "      <th>2</th>\n",
       "      <td>16CS03</td>\n",
       "      <td>Ayesha Malik</td>\n",
       "      <td>22</td>\n",
       "      <td>2.81</td>\n",
       "      <td>multan</td>\n",
       "      <td>100000</td>\n",
       "      <td>1</td>\n",
       "      <td>0</td>\n",
       "    </tr>\n",
       "    <tr>\n",
       "      <th>3</th>\n",
       "      <td>16CS04</td>\n",
       "      <td>Areeba Fatima</td>\n",
       "      <td>22</td>\n",
       "      <td>3.55</td>\n",
       "      <td>bahawalpur</td>\n",
       "      <td>10000</td>\n",
       "      <td>1</td>\n",
       "      <td>80000</td>\n",
       "    </tr>\n",
       "    <tr>\n",
       "      <th>4</th>\n",
       "      <td>16CS05</td>\n",
       "      <td>Ayesha Younas</td>\n",
       "      <td>22</td>\n",
       "      <td>3.51</td>\n",
       "      <td>bahawalpur</td>\n",
       "      <td>30000</td>\n",
       "      <td>1</td>\n",
       "      <td>36000</td>\n",
       "    </tr>\n",
       "  </tbody>\n",
       "</table>\n",
       "</div>"
      ],
      "text/plain": [
       "      rno           name  age  cgpa     address  income  gender  \\\n",
       "0  16cs01   Hooria Tahir   22  2.95  bahawalpur   22000       1   \n",
       "1  16CS02  Sammrah Hanif   22  3.64  bahawalpur       0       1   \n",
       "2  16CS03   Ayesha Malik   22  2.81      multan  100000       1   \n",
       "3  16CS04  Areeba Fatima   22  3.55  bahawalpur   10000       1   \n",
       "4  16CS05  Ayesha Younas   22  3.51  bahawalpur   30000       1   \n",
       "\n",
       "   scholarship amount  \n",
       "0               80000  \n",
       "1               13000  \n",
       "2                   0  \n",
       "3               80000  \n",
       "4               36000  "
      ]
     },
     "execution_count": 12,
     "metadata": {},
     "output_type": "execute_result"
    }
   ],
   "source": [
    "df_bar = df\n",
    "df_bar.head()"
   ]
  },
  {
   "cell_type": "code",
   "execution_count": 13,
   "id": "ad80ac8a",
   "metadata": {
    "execution": {
     "iopub.execute_input": "2024-05-13T06:02:02.543004Z",
     "iopub.status.busy": "2024-05-13T06:02:02.542238Z",
     "iopub.status.idle": "2024-05-13T06:02:02.880971Z",
     "shell.execute_reply": "2024-05-13T06:02:02.880259Z",
     "shell.execute_reply.started": "2024-03-12T07:16:04.497773Z"
    },
    "papermill": {
     "duration": 0.386742,
     "end_time": "2024-05-13T06:02:02.881189",
     "exception": false,
     "start_time": "2024-05-13T06:02:02.494447",
     "status": "completed"
    },
    "tags": []
   },
   "outputs": [
    {
     "data": {
      "text/plain": [
       "Text(0, 0.5, 'CGPA')"
      ]
     },
     "execution_count": 13,
     "metadata": {},
     "output_type": "execute_result"
    },
    {
     "data": {
      "image/png": "[encoded data removed]",
      "text/plain": [
       "<Figure size 432x288 with 1 Axes>"
      ]
     },
     "metadata": {
      "needs_background": "light"
     },
     "output_type": "display_data"
    }
   ],
   "source": [
    "plt.bar(df_bar.age, df_bar.cgpa)\n",
    "plt.title(\"Bar graph between students age and cgpa\")\n",
    "plt.xlabel(\"Student age\")\n",
    "plt.ylabel(\"CGPA\")"
   ]
  },
  {
   "cell_type": "markdown",
   "id": "0f9c1618",
   "metadata": {
    "papermill": {
     "duration": 0.044658,
     "end_time": "2024-05-13T06:02:02.970792",
     "exception": false,
     "start_time": "2024-05-13T06:02:02.926134",
     "status": "completed"
    },
    "tags": []
   },
   "source": [
    "# (B) Histogram"
   ]
  },
  {
   "cell_type": "code",
   "execution_count": 14,
   "id": "151d2e27",
   "metadata": {
    "execution": {
     "iopub.execute_input": "2024-05-13T06:02:03.080574Z",
     "iopub.status.busy": "2024-05-13T06:02:03.079321Z",
     "iopub.status.idle": "2024-05-13T06:02:03.336741Z",
     "shell.execute_reply": "2024-05-13T06:02:03.337322Z",
     "shell.execute_reply.started": "2024-03-11T10:16:16.461652Z"
    },
    "papermill": {
     "duration": 0.315845,
     "end_time": "2024-05-13T06:02:03.337561",
     "exception": false,
     "start_time": "2024-05-13T06:02:03.021716",
     "status": "completed"
    },
    "tags": []
   },
   "outputs": [
    {
     "data": {
      "text/plain": [
       "(array([4., 3., 3., 2., 4., 2., 1., 1., 1., 1.]),\n",
       " array([  4. ,  15.1,  26.2,  37.3,  48.4,  59.5,  70.6,  81.7,  92.8,\n",
       "        103.9, 115. ]),\n",
       " <BarContainer object of 10 artists>)"
      ]
     },
     "execution_count": 14,
     "metadata": {},
     "output_type": "execute_result"
    },
    {
     "data": {
      "image/png": "[encoded data removed]",
      "text/plain": [
       "<Figure size 432x288 with 1 Axes>"
      ]
     },
     "metadata": {
      "needs_background": "light"
     },
     "output_type": "display_data"
    }
   ],
   "source": [
    "import matplotlib.pyplot as plt\n",
    "population_ages = [10,20,87, 65, 24, 37, 21, 9,7,4, 100, \\\n",
    "                   115, 53, 70, 75, 43, 54,\\\n",
    "                   33, 39, 51, 59, 30]\n",
    "plt.hist(population_ages, rwidth=0.2)"
   ]
  },
  {
   "cell_type": "code",
   "execution_count": 15,
   "id": "3c4c7095",
   "metadata": {
    "execution": {
     "iopub.execute_input": "2024-05-13T06:02:03.437806Z",
     "iopub.status.busy": "2024-05-13T06:02:03.436990Z",
     "iopub.status.idle": "2024-05-13T06:02:03.723490Z",
     "shell.execute_reply": "2024-05-13T06:02:03.724022Z",
     "shell.execute_reply.started": "2024-03-11T10:16:16.463548Z"
    },
    "papermill": {
     "duration": 0.338953,
     "end_time": "2024-05-13T06:02:03.724422",
     "exception": false,
     "start_time": "2024-05-13T06:02:03.385469",
     "status": "completed"
    },
    "tags": []
   },
   "outputs": [
    {
     "data": {
      "image/png": "[encoded data removed]",
      "text/plain": [
       "<Figure size 432x288 with 1 Axes>"
      ]
     },
     "metadata": {
      "needs_background": "light"
     },
     "output_type": "display_data"
    }
   ],
   "source": [
    "import matplotlib.pyplot as plt\n",
    "population_ages = [10,20,87, 65, 24, 37, 21, 9,7, 4, 100, \\\n",
    "                   115, 53, 70, 75, 43, 54, \\\n",
    "                   33, 39, 51, 59, 30]\n",
    "\n",
    "bins = [0,10,20,30,40,50,70,80,90,100,110,120]\n",
    "plt.hist(population_ages, bins, histtype='bar', color = 'g', alpha=0.75)\n",
    "plt.xticks([0,10,20,30,40,50,60,70,80,90,100,110,120], rotation = 45)\n",
    "plt.xlabel('Along x-axis'); plt.ylabel('Along y-axis'); plt.title('Population Age Distribution')\n",
    "plt.legend(title = \"Histogram\"); plt.show()"
   ]
  },
  {
   "cell_type": "markdown",
   "id": "705d960d",
   "metadata": {
    "papermill": {
     "duration": 0.049024,
     "end_time": "2024-05-13T06:02:03.823000",
     "exception": false,
     "start_time": "2024-05-13T06:02:03.773976",
     "status": "completed"
    },
    "tags": []
   },
   "source": [
    "### Graph interpretation\n",
    "- The graph above suggest that there are 3 kids in the age range of 0-10 years, no one in the range of 90-100...and so on."
   ]
  },
  {
   "cell_type": "markdown",
   "id": "ca7bed63",
   "metadata": {
    "papermill": {
     "duration": 0.048923,
     "end_time": "2024-05-13T06:02:03.920723",
     "exception": false,
     "start_time": "2024-05-13T06:02:03.871800",
     "status": "completed"
    },
    "tags": []
   },
   "source": [
    "# Task(s) related to histogram"
   ]
  },
  {
   "cell_type": "markdown",
   "id": "102562af",
   "metadata": {
    "papermill": {
     "duration": 0.053993,
     "end_time": "2024-05-13T06:02:04.023374",
     "exception": false,
     "start_time": "2024-05-13T06:02:03.969381",
     "status": "completed"
    },
    "tags": []
   },
   "source": [
    "1. Elaborate usability of histogram in data mining\n",
    "2. Create space between histrogram distributions\n",
    "3. Interpret your histogram graph"
   ]
  },
  {
   "cell_type": "code",
   "execution_count": null,
   "id": "ec945359",
   "metadata": {
    "papermill": {
     "duration": 0.047689,
     "end_time": "2024-05-13T06:02:04.120088",
     "exception": false,
     "start_time": "2024-05-13T06:02:04.072399",
     "status": "completed"
    },
    "tags": []
   },
   "outputs": [],
   "source": []
  },
  {
   "cell_type": "markdown",
   "id": "bcef6ae8",
   "metadata": {
    "papermill": {
     "duration": 0.04927,
     "end_time": "2024-05-13T06:02:04.218979",
     "exception": false,
     "start_time": "2024-05-13T06:02:04.169709",
     "status": "completed"
    },
    "tags": []
   },
   "source": [
    "# Task 2"
   ]
  },
  {
   "cell_type": "code",
   "execution_count": 16,
   "id": "cb85a7ba",
   "metadata": {
    "execution": {
     "iopub.execute_input": "2024-05-13T06:02:04.319995Z",
     "iopub.status.busy": "2024-05-13T06:02:04.319238Z",
     "iopub.status.idle": "2024-05-13T06:02:04.569383Z",
     "shell.execute_reply": "2024-05-13T06:02:04.568632Z",
     "shell.execute_reply.started": "2024-03-12T07:20:19.938061Z"
    },
    "papermill": {
     "duration": 0.301523,
     "end_time": "2024-05-13T06:02:04.569570",
     "exception": false,
     "start_time": "2024-05-13T06:02:04.268047",
     "status": "completed"
    },
    "tags": []
   },
   "outputs": [
    {
     "data": {
      "text/plain": [
       "(array([ 0., 13.,  7.]),\n",
       " array([1, 2, 3, 4]),\n",
       " <BarContainer object of 3 artists>)"
      ]
     },
     "execution_count": 16,
     "metadata": {},
     "output_type": "execute_result"
    },
    {
     "data": {
      "image/png": "[encoded data removed]",
      "text/plain": [
       "<Figure size 432x288 with 1 Axes>"
      ]
     },
     "metadata": {
      "needs_background": "light"
     },
     "output_type": "display_data"
    }
   ],
   "source": [
    "plt.hist(df.cgpa, [1, 2, 3, 4], rwidth=0.85)"
   ]
  },
  {
   "cell_type": "markdown",
   "id": "ed8a177f",
   "metadata": {
    "papermill": {
     "duration": 0.052944,
     "end_time": "2024-05-13T06:02:04.671956",
     "exception": false,
     "start_time": "2024-05-13T06:02:04.619012",
     "status": "completed"
    },
    "tags": []
   },
   "source": [
    "# Task 3"
   ]
  },
  {
   "cell_type": "markdown",
   "id": "e62d6467",
   "metadata": {
    "papermill": {
     "duration": 0.049744,
     "end_time": "2024-05-13T06:02:04.771593",
     "exception": false,
     "start_time": "2024-05-13T06:02:04.721849",
     "status": "completed"
    },
    "tags": []
   },
   "source": [
    "The histogram shows the distrubution of data over defined bins"
   ]
  }
 ],
 "metadata": {
  "kaggle": {
   "accelerator": "none",
   "dataSources": [
    {
     "datasetId": 2052105,
     "sourceId": 3404514,
     "sourceType": "datasetVersion"
    }
   ],
   "dockerImageVersionId": 30176,
   "isGpuEnabled": false,
   "isInternetEnabled": true,
   "language": "python",
   "sourceType": "notebook"
  },
  "kernelspec": {
   "display_name": "Python 3",
   "language": "python",
   "name": "python3"
  },
  "language_info": {
   "codemirror_mode": {
    "name": "ipython",
    "version": 3
   },
   "file_extension": ".py",
   "mimetype": "text/x-python",
   "name": "python",
   "nbconvert_exporter": "python",
   "pygments_lexer": "ipython3",
   "version": "3.7.12"
  },
  "papermill": {
   "default_parameters": {},
   "duration": 33.721429,
   "end_time": "2024-05-13T06:02:05.838589",
   "environment_variables": {},
   "exception": null,
   "input_path": "__notebook__.ipynb",
   "output_path": "__notebook__.ipynb",
   "parameters": {},
   "start_time": "2024-05-13T06:01:32.117160",
   "version": "2.3.3"
  }
 },
 "nbformat": 4,
 "nbformat_minor": 5
}
